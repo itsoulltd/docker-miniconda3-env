{
 "cells": [
  {
   "cell_type": "code",
   "execution_count": 1,
   "id": "f0ce5c5b-6054-41c0-ae0b-10ed5886ba4d",
   "metadata": {},
   "outputs": [],
   "source": [
    "#import sys\n",
    "#sys.path.append('/home/src/main/py')\n",
    "#print(sys.path)\n",
    "\n",
    "from HelloPy import *\n",
    "from MySQL import *"
   ]
  },
  {
   "cell_type": "code",
   "execution_count": 2,
   "id": "81877918-eafd-4a34-9472-cb23b23735c8",
   "metadata": {},
   "outputs": [
    {
     "name": "stdout",
     "output_type": "stream",
     "text": [
      "Message: Hello World!\n"
     ]
    }
   ],
   "source": [
    "displayText()"
   ]
  },
  {
   "cell_type": "code",
   "execution_count": 9,
   "id": "63163d50-9beb-411d-a895-2b71c4f95b1b",
   "metadata": {},
   "outputs": [
    {
     "name": "stdout",
     "output_type": "stream",
     "text": [
      "Message: Hello World!\n"
     ]
    }
   ],
   "source": [
    "#Or with %run Magic:\n",
    "%run HelloPy.py"
   ]
  },
  {
   "cell_type": "code",
   "execution_count": null,
   "id": "9be5db6d-d0bb-467c-8dd8-3bf69c1fdc1e",
   "metadata": {},
   "outputs": [],
   "source": [
    "#Connect using host.docker.internal or using extra_hosts entry in docker-compose as host-machine:<machine-ip>\n",
    "connect = MySQLConnect(host='host.docker.internal', database='testDB')\n",
    "connect.whichDB()\n",
    "connect.close()"
   ]
  },
  {
   "cell_type": "code",
   "execution_count": null,
   "id": "2037f4a9-eb91-4820-a14e-22c6a1a79071",
   "metadata": {},
   "outputs": [],
   "source": [
    "import pandas as pd\n",
    "#pd.DataFrame.iteritems = pd.DataFrame.items\n",
    "\n",
    "#Connect:\n",
    "connect = MySQLConnect(host='host.docker.internal', database='testDB')\n",
    "pd_df = connect.query(\"Select * from users\")\n",
    "print(pd_df)\n",
    "#pd_df.head(5)\n",
    "connect.close()"
   ]
  },
  {
   "cell_type": "code",
   "execution_count": null,
   "id": "acd2c010-84e3-485f-9f8b-b69b524fdb6c",
   "metadata": {},
   "outputs": [],
   "source": [
    "#Or with %run Magic:\n",
    "%run MySQL.py"
   ]
  }
 ],
 "metadata": {
  "kernelspec": {
   "display_name": "Python 3 (ipykernel)",
   "language": "python",
   "name": "python3"
  },
  "language_info": {
   "codemirror_mode": {
    "name": "ipython",
    "version": 3
   },
   "file_extension": ".py",
   "mimetype": "text/x-python",
   "name": "python",
   "nbconvert_exporter": "python",
   "pygments_lexer": "ipython3",
   "version": "3.12.2"
  }
 },
 "nbformat": 4,
 "nbformat_minor": 5
}
