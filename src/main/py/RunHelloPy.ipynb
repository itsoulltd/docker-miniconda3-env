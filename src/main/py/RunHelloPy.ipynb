{
 "cells": [
  {
   "cell_type": "code",
   "execution_count": 6,
   "id": "f0ce5c5b-6054-41c0-ae0b-10ed5886ba4d",
   "metadata": {},
   "outputs": [],
   "source": [
    "#import sys\n",
    "#sys.path.append('/home/src/main/py')\n",
    "#print(sys.path)\n",
    "\n",
    "from HelloPy import *\n",
    "from MySQL import *"
   ]
  },
  {
   "cell_type": "code",
   "execution_count": 7,
   "id": "81877918-eafd-4a34-9472-cb23b23735c8",
   "metadata": {},
   "outputs": [
    {
     "name": "stdout",
     "output_type": "stream",
     "text": [
      "Message: Hello World!\n"
     ]
    }
   ],
   "source": [
    "displayText()"
   ]
  },
  {
   "cell_type": "code",
   "execution_count": 8,
   "id": "63163d50-9beb-411d-a895-2b71c4f95b1b",
   "metadata": {},
   "outputs": [
    {
     "name": "stdout",
     "output_type": "stream",
     "text": [
      "Message: Hello World!\n"
     ]
    }
   ],
   "source": [
    "#Or with %run Magic:\n",
    "%run HelloPy.py"
   ]
  },
  {
   "cell_type": "code",
   "execution_count": 9,
   "id": "92d1cd29-3d2f-441b-986a-c9f84550514f",
   "metadata": {},
   "outputs": [
    {
     "name": "stdout",
     "output_type": "stream",
     "text": [
      "Base Path: ../resources/Sample\n",
      "Read from: ../resources/Sample/simple.csv\n",
      "<class 'pandas.core.frame.DataFrame'>\n",
      "RangeIndex: 2 entries, 0 to 1\n",
      "Data columns (total 3 columns):\n",
      " #   Column      Non-Null Count  Dtype \n",
      "---  ------      --------------  ----- \n",
      " 0   Unnamed: 0  2 non-null      int64 \n",
      " 1   Name        2 non-null      object\n",
      " 2   Age         2 non-null      int64 \n",
      "dtypes: int64(2), object(1)\n",
      "memory usage: 180.0+ bytes\n",
      "Write at: ../resources/Sample/simple_update.csv\n"
     ]
    }
   ],
   "source": [
    "##Example of calling from one *.ipynb from another *.ipynb\n",
    "##Setting vars:\n",
    "resource_read_file = \"simple.csv\"\n",
    "resource_write_file = \"simple_update.csv\"\n",
    "resource_dir = \"Sample\"\n",
    "##Call using: %run <path of the notebook that has to be run>\n",
    "%run FileReadWritePy.ipynb"
   ]
  },
  {
   "cell_type": "code",
   "execution_count": null,
   "id": "9be5db6d-d0bb-467c-8dd8-3bf69c1fdc1e",
   "metadata": {},
   "outputs": [],
   "source": [
    "#Connect using host.docker.internal or using extra_hosts entry in docker-compose as host-machine:<machine-ip>\n",
    "connect = MySQLConnect(host='host.docker.internal', database='testDB')\n",
    "connect.whichDB()\n",
    "connect.close()"
   ]
  },
  {
   "cell_type": "code",
   "execution_count": null,
   "id": "2037f4a9-eb91-4820-a14e-22c6a1a79071",
   "metadata": {},
   "outputs": [],
   "source": [
    "import pandas as pd\n",
    "#pd.DataFrame.iteritems = pd.DataFrame.items\n",
    "\n",
    "#Connect:\n",
    "connect = MySQLConnect(host='host.docker.internal', database='testDB')\n",
    "pd_df = connect.query(\"Select * from users\")\n",
    "print(pd_df)\n",
    "#pd_df.head(5)\n",
    "connect.close()"
   ]
  },
  {
   "cell_type": "code",
   "execution_count": null,
   "id": "acd2c010-84e3-485f-9f8b-b69b524fdb6c",
   "metadata": {},
   "outputs": [],
   "source": [
    "#Or with %run Magic:\n",
    "%run MySQL.py"
   ]
  },
  {
   "cell_type": "code",
   "execution_count": null,
   "id": "9539517f",
   "metadata": {
    "collapsed": false,
    "jupyter": {
     "outputs_hidden": false
    }
   },
   "outputs": [],
   "source": [
    "from datetime import date, datetime, timedelta\n",
    "import pandas as pd\n",
    "# If you want to keep version that you have of pandas try this:\n",
    "pd.DataFrame.iteritems = pd.DataFrame.items\n",
    "#\n",
    "##Read from json in resources/*.json\n",
    "path_json = \"../resources/people.json\"\n",
    "peoplesPD = pd.read_json(path_json)\n",
    "print(peoplesPD)"
   ]
  },
  {
   "cell_type": "code",
   "execution_count": null,
   "id": "b5d05d64",
   "metadata": {
    "collapsed": false,
    "jupyter": {
     "outputs_hidden": false
    }
   },
   "outputs": [],
   "source": [
    "##Read from csv in resources/*.csv\n",
    "path_csv = \"../resources/people.csv\"\n",
    "peoplesPD = pd.read_csv(path_csv)\n",
    "print(peoplesPD)"
   ]
  }
 ],
 "metadata": {
  "kernelspec": {
   "display_name": "Python 3 (ipykernel)",
   "language": "python",
   "name": "python3"
  },
  "language_info": {
   "codemirror_mode": {
    "name": "ipython",
    "version": 3
   },
   "file_extension": ".py",
   "mimetype": "text/x-python",
   "name": "python",
   "nbconvert_exporter": "python",
   "pygments_lexer": "ipython3",
   "version": "3.12.3"
  }
 },
 "nbformat": 4,
 "nbformat_minor": 5
}
