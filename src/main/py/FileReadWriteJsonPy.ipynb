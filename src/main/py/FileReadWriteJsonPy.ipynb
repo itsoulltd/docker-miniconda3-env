{
 "cells": [
  {
   "cell_type": "code",
   "execution_count": 1,
   "id": "84b64129-60f2-4e4d-9dd1-e0173f04309d",
   "metadata": {},
   "outputs": [
    {
     "name": "stdout",
     "output_type": "stream",
     "text": [
      "Base Path: ../resources/Sample\n"
     ]
    }
   ],
   "source": [
    "#Setting vars:\n",
    "if not 'resource_read_file' in locals():\n",
    "    resource_read_file = \"simple.csv\"\n",
    "if not 'resource_write_file' in locals():\n",
    "    resource_write_file = \"simple_update.csv\"\n",
    "if not 'resource_dir' in locals():\n",
    "    resource_dir = \"Sample\"\n",
    "#\n",
    "#base_io_path = f\"abfss://{container_name}@{storage_account}.dfs.core.windows.net\"\n",
    "##\n",
    "base_io_path = f\"../resources/{resource_dir}\"\n",
    "print(f\"Base Path: {base_io_path}\")"
   ]
  },
  {
   "cell_type": "code",
   "execution_count": 2,
   "id": "118bfbcc-28f4-4bb4-a7b4-ba4ba6341a4a",
   "metadata": {},
   "outputs": [],
   "source": [
    "import json\n",
    "from pprint import pprint\n",
    "from datetime import datetime, date, time, timedelta"
   ]
  },
  {
   "cell_type": "code",
   "execution_count": 7,
   "id": "22eec980-b2af-49a6-91b5-bae09914a770",
   "metadata": {},
   "outputs": [
    {
     "name": "stdout",
     "output_type": "stream",
     "text": [
      "../resources/Sample/simple.json write successful\n"
     ]
    }
   ],
   "source": [
    "##Write Json example:\n",
    "today = date.today()\n",
    "result_dict = {\n",
    "    'Name':['Alice','Sophia']\n",
    "    , 'Age':[28, 24, 20, 34, 65]\n",
    "    , 'Date':[(today - timedelta(days=300)).strftime('%Y-%m-%d')\n",
    "              , (today - timedelta(days=600)).strftime('%Y-%m-%d')\n",
    "              , (today - timedelta(days=900)).strftime('%Y-%m-%d')]\n",
    "}\n",
    "##\n",
    "##Start writing:\n",
    "write_path = f'{base_io_path}/simple.json'\n",
    "with open(write_path, 'w', encoding='utf-8') as file_to_write:\n",
    "    try:\n",
    "        json.dump(result_dict, file_to_write, ensure_ascii=False, indent=4)\n",
    "        print(f'{write_path} write successful')\n",
    "    except Exception as e:\n",
    "        print(f'Error at {write_path}, message: {e}')\n",
    "#end"
   ]
  },
  {
   "cell_type": "code",
   "execution_count": 8,
   "id": "b270af84-4cdb-4362-9eb0-c3e7687cdbbf",
   "metadata": {},
   "outputs": [
    {
     "name": "stdout",
     "output_type": "stream",
     "text": [
      "{'Age': [28, 24, 20, 34, 65],\n",
      " 'Date': ['2023-08-04', '2022-10-08', '2021-12-12'],\n",
      " 'Name': ['Alice', 'Sophia']}\n"
     ]
    }
   ],
   "source": [
    "##Read Json example:\n",
    "read_path = f'{base_io_path}/simple.json'\n",
    "with open(read_path) as js_file:\n",
    "    dic_theme = json.load(js_file)\n",
    "    pprint(dic_theme)\n",
    "#end"
   ]
  }
 ],
 "metadata": {
  "kernelspec": {
   "display_name": "Python 3 (ipykernel)",
   "language": "python",
   "name": "python3"
  },
  "language_info": {
   "codemirror_mode": {
    "name": "ipython",
    "version": 3
   },
   "file_extension": ".py",
   "mimetype": "text/x-python",
   "name": "python",
   "nbconvert_exporter": "python",
   "pygments_lexer": "ipython3",
   "version": "3.12.3"
  }
 },
 "nbformat": 4,
 "nbformat_minor": 5
}
