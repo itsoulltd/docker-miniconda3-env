{
 "cells": [
  {
   "cell_type": "code",
   "execution_count": 2,
   "id": "b615a4c7-a702-4e18-81bd-1fc5d9d0f30a",
   "metadata": {},
   "outputs": [
    {
     "name": "stdout",
     "output_type": "stream",
     "text": [
      "Base Path: ../resources/Sample\n"
     ]
    }
   ],
   "source": [
    "#Setting vars:\n",
    "if not 'resource_read_file' in locals():\n",
    "    resource_read_file = \"simple.csv\"\n",
    "if not 'resource_write_file' in locals():\n",
    "    resource_write_file = \"simple_update.csv\"\n",
    "if not 'resource_dir' in locals():\n",
    "    resource_dir = \"Sample\"\n",
    "#\n",
    "#base_io_path = f\"abfss://{container_name}@{storage_account}.dfs.core.windows.net\"\n",
    "##\n",
    "base_io_path = f\"../resources/{resource_dir}\"\n",
    "print(f\"Base Path: {base_io_path}\")"
   ]
  },
  {
   "cell_type": "code",
   "execution_count": 4,
   "id": "9720706f-57b9-4450-88fe-ba49f54d4fff",
   "metadata": {},
   "outputs": [],
   "source": [
    "import pandas as pd\n",
    "import numpy as np\n",
    "from datetime import datetime, date, time, timedelta"
   ]
  },
  {
   "cell_type": "code",
   "execution_count": 5,
   "id": "43f75870-a34c-46b6-b28a-def41f0f8992",
   "metadata": {},
   "outputs": [
    {
     "name": "stdout",
     "output_type": "stream",
     "text": [
      "Read from: ../resources/Sample/simple.csv\n"
     ]
    }
   ],
   "source": [
    "read_path = f\"{base_io_path}/{resource_read_file}\"\n",
    "print(f\"Read from: {read_path}\")\n",
    "raw_df = pd.read_csv(read_path, sep=',', encoding='latin-1')"
   ]
  },
  {
   "cell_type": "code",
   "execution_count": 6,
   "id": "dd81fdb2-87e8-40df-8ce7-bb9546dbb238",
   "metadata": {},
   "outputs": [
    {
     "name": "stdout",
     "output_type": "stream",
     "text": [
      "<class 'pandas.core.frame.DataFrame'>\n",
      "RangeIndex: 2 entries, 0 to 1\n",
      "Data columns (total 3 columns):\n",
      " #   Column      Non-Null Count  Dtype \n",
      "---  ------      --------------  ----- \n",
      " 0   Unnamed: 0  2 non-null      int64 \n",
      " 1   Name        2 non-null      object\n",
      " 2   Age         2 non-null      int64 \n",
      "dtypes: int64(2), object(1)\n",
      "memory usage: 180.0+ bytes\n"
     ]
    }
   ],
   "source": [
    "raw_df.info()"
   ]
  },
  {
   "cell_type": "code",
   "execution_count": 7,
   "id": "3a587b61-9df0-437a-8b66-3ba441f8cb50",
   "metadata": {},
   "outputs": [
    {
     "data": {
      "text/html": [
       "<div>\n",
       "<style scoped>\n",
       "    .dataframe tbody tr th:only-of-type {\n",
       "        vertical-align: middle;\n",
       "    }\n",
       "\n",
       "    .dataframe tbody tr th {\n",
       "        vertical-align: top;\n",
       "    }\n",
       "\n",
       "    .dataframe thead th {\n",
       "        text-align: right;\n",
       "    }\n",
       "</style>\n",
       "<table border=\"1\" class=\"dataframe\">\n",
       "  <thead>\n",
       "    <tr style=\"text-align: right;\">\n",
       "      <th></th>\n",
       "      <th>Name</th>\n",
       "      <th>Age</th>\n",
       "      <th>Date</th>\n",
       "    </tr>\n",
       "  </thead>\n",
       "  <tbody>\n",
       "    <tr>\n",
       "      <th>0</th>\n",
       "      <td>Alice</td>\n",
       "      <td>28</td>\n",
       "      <td>2023-07-24</td>\n",
       "    </tr>\n",
       "    <tr>\n",
       "      <th>1</th>\n",
       "      <td>Sophia</td>\n",
       "      <td>24</td>\n",
       "      <td>2022-09-27</td>\n",
       "    </tr>\n",
       "    <tr>\n",
       "      <th>2</th>\n",
       "      <td>Júlia</td>\n",
       "      <td>20</td>\n",
       "      <td>2021-12-01</td>\n",
       "    </tr>\n",
       "  </tbody>\n",
       "</table>\n",
       "</div>"
      ],
      "text/plain": [
       "     Name  Age        Date\n",
       "0   Alice   28  2023-07-24\n",
       "1  Sophia   24  2022-09-27\n",
       "2   Júlia   20  2021-12-01"
      ]
     },
     "execution_count": 7,
     "metadata": {},
     "output_type": "execute_result"
    }
   ],
   "source": [
    "today = date.today()\n",
    "data = {'Name':['Alice', 'Sophia', 'Júlia']\n",
    "            , 'Age':[28, 24, 20]\n",
    "            , 'Date':[today - timedelta(days=300), today - timedelta(days=600), today - timedelta(days=900)]}\n",
    "df_data = pd.DataFrame(data)\n",
    "df_data.head()"
   ]
  },
  {
   "cell_type": "code",
   "execution_count": 8,
   "id": "beb3cf16-b756-491b-aa8f-07393e96a1dd",
   "metadata": {},
   "outputs": [
    {
     "name": "stdout",
     "output_type": "stream",
     "text": [
      "Write at: ../resources/Sample/simple_update.csv\n"
     ]
    }
   ],
   "source": [
    "write_path = f\"{base_io_path}/{resource_write_file}\"\n",
    "df_data.to_csv(write_path, sep=',', encoding='latin-1', index=False)\n",
    "print(f\"Write at: {write_path}\")"
   ]
  }
 ],
 "metadata": {
  "kernelspec": {
   "display_name": "Python 3 (ipykernel)",
   "language": "python",
   "name": "python3"
  },
  "language_info": {
   "codemirror_mode": {
    "name": "ipython",
    "version": 3
   },
   "file_extension": ".py",
   "mimetype": "text/x-python",
   "name": "python",
   "nbconvert_exporter": "python",
   "pygments_lexer": "ipython3",
   "version": "3.12.3"
  }
 },
 "nbformat": 4,
 "nbformat_minor": 5
}
