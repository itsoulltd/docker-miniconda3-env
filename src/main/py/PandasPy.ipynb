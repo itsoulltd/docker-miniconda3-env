{
 "cells": [
  {
   "cell_type": "code",
   "execution_count": 1,
   "id": "d4c3e6f4-85b5-43fd-8f5f-585f506955ed",
   "metadata": {},
   "outputs": [],
   "source": [
    "import pandas as pd\n",
    "import numpy as np\n",
    "from datetime import datetime, date, time, timedelta"
   ]
  },
  {
   "cell_type": "code",
   "execution_count": 2,
   "id": "e1dcb44a-75ca-4b3c-886c-50d5610555d1",
   "metadata": {},
   "outputs": [],
   "source": [
    "#Define write function for csv:\n",
    "def write_to_csv(df, write_path, sep=',', encoding='latin-1', save_index=False):\n",
    "    try:\n",
    "        df.to_csv(write_path, sep=sep, encoding=encoding, index=save_index)\n",
    "        print(f\"Writing at {write_path} complete!\")\n",
    "    except Exception as e:\n",
    "        print(f\"Error writing at {write_path}, Error: {e}\")\n",
    "#end\n",
    "\n",
    "#Define write function for zipped csv:\n",
    "def write_to_csv_zip(df, write_path, sep=',', encoding='latin-1'):\n",
    "    try:\n",
    "        paths = write_path.split('/')\n",
    "        filename = paths[len(paths) - 1] if len(paths) > 0 else None\n",
    "        if filename is None:\n",
    "            raise Exception(\"filename is None!\")\n",
    "        write_path = write_path.replace('.csv', '.zip')\n",
    "        df.to_csv(write_path\n",
    "                  , sep=sep\n",
    "                  , encoding=encoding\n",
    "                  , index=False\n",
    "                  , compression={'method':'zip','archive_name':filename})\n",
    "        print(f\"Writing at {write_path} complete!\")\n",
    "    except Exception as e:\n",
    "        print(f\"Error writing at {write_path}, Error: {e}\")\n",
    "#end"
   ]
  },
  {
   "cell_type": "code",
   "execution_count": 5,
   "id": "45d0ea5e-b358-4915-96b4-a1b3c9d63f19",
   "metadata": {},
   "outputs": [
    {
     "name": "stdout",
     "output_type": "stream",
     "text": [
      "Writing at ../resources/example_csv_as_zipped_a.zip complete!\n"
     ]
    }
   ],
   "source": [
    "##Test: writing *.csv as *.zip\n",
    "write_to_csv_zip(pd.DataFrame({'Name':['Alice','Sophia','Júlia'], 'Age':[28, 24, 21]})\n",
    "                 , \"../resources/example_csv_as_zipped_a.csv\")"
   ]
  },
  {
   "cell_type": "code",
   "execution_count": 31,
   "id": "03416597-db4a-426d-bff5-7b1a54d6d1a3",
   "metadata": {},
   "outputs": [
    {
     "name": "stdout",
     "output_type": "stream",
     "text": [
      "2024-05-13 14:57:34.678979\n",
      "2023-10-01 00:00:00\n",
      "year:2023, month:10\n"
     ]
    }
   ],
   "source": [
    "str_dt = \"10_2023\" # \"%m_%Y\"\n",
    "#month_year : need to find which qtr of this month of year:\n",
    "##\n",
    "print(datetime.now())\n",
    "print(datetime.strptime(str_dt, \"%m_%Y\"))\n",
    "##\n",
    "p_dtime = datetime.strptime(str_dt, \"%m_%Y\")\n",
    "print(f\"year:{p_dtime.year}, month:{p_dtime.month}\")"
   ]
  },
  {
   "cell_type": "code",
   "execution_count": 3,
   "id": "87c3cef3-f677-4fcb-a65f-7ad4029a30df",
   "metadata": {},
   "outputs": [],
   "source": [
    "import math\n",
    "\n",
    "##Parse datetime using strptime():\n",
    "def getQtr(dtime):\n",
    "    return int(math.ceil(dtime.month) / 3) + 1\n",
    "#end\n",
    "\n",
    "def getQtrFromStrptime(str_dtime, f_format = \"%Y-%m-%d\"):\n",
    "    try:\n",
    "        dtime = datetime.strptime(str_dtime, f_format)\n",
    "        return int(math.ceil(dtime.month) / 3) + 1\n",
    "    except Exception as e:\n",
    "        pass\n",
    "    return 0\n",
    "#end\n",
    "\n",
    "def getYearFromStrptime(str_dtime, f_format = \"%Y-%m-%d\"):\n",
    "    try:\n",
    "        dtime = datetime.strptime(str_dtime, f_format)\n",
    "        return dtime.year\n",
    "    except Exception as e:\n",
    "        pass\n",
    "    return date.today().year\n",
    "#end\n",
    "\n",
    "def getIntFromStrptime(str_dtime, regx = '-'):\n",
    "    try:\n",
    "        vals = str_dtime.strip().split(regx)\n",
    "        vals.reverse()\n",
    "        return int(''.join(vals))\n",
    "    except Exception as e:\n",
    "        pass\n",
    "    return 0\n",
    "#end\n",
    "\n",
    "def strftime(str_date, frm_format = \"%Y-%m-%d\", to_format = \"%d/%m/%Y\", split_by = ' '):\n",
    "    try:\n",
    "        splited = str_date.split(split_by)\n",
    "        dt = datetime.strptime(splited[0], frm_format)\n",
    "        return dt.strftime(to_format)\n",
    "    except Exception as e:\n",
    "        pass\n",
    "    return \"\"\n",
    "#end"
   ]
  },
  {
   "cell_type": "code",
   "execution_count": 33,
   "id": "6f95a7fb-85a8-4468-afea-f37c60efc748",
   "metadata": {},
   "outputs": [
    {
     "name": "stdout",
     "output_type": "stream",
     "text": [
      "2023-02-01 00:00:00 -> Qtr: 1\n",
      "2023-04-01 00:00:00 -> Qtr: 2\n",
      "2023-08-01 00:00:00 -> Qtr: 3\n",
      "2023-10-01 00:00:00 -> Qtr: 4\n"
     ]
    }
   ],
   "source": [
    "##Test datetime parsing: \n",
    "for str_dtime in ['02_2023', '04_2023', '08_2023', '10_2023']:\n",
    "    m_dtime = datetime.strptime(str_dtime, \"%m_%Y\")\n",
    "    qtr = getQtr(m_dtime)\n",
    "    print(f\"{m_dtime} -> Qtr: {qtr}\")\n",
    "#end"
   ]
  },
  {
   "cell_type": "code",
   "execution_count": 5,
   "id": "029d5b5d-d52c-4b2b-996a-fb3eb94a9412",
   "metadata": {},
   "outputs": [
    {
     "name": "stdout",
     "output_type": "stream",
     "text": [
      "<class 'pandas.core.frame.DataFrame'>\n",
      "RangeIndex: 3 entries, 0 to 2\n",
      "Data columns (total 3 columns):\n",
      " #   Column  Non-Null Count  Dtype \n",
      "---  ------  --------------  ----- \n",
      " 0   Name    3 non-null      object\n",
      " 1   Age     3 non-null      int64 \n",
      " 2   Date    3 non-null      object\n",
      "dtypes: int64(1), object(2)\n",
      "memory usage: 204.0+ bytes\n"
     ]
    }
   ],
   "source": [
    "##Pandas dataframe practice:\n",
    "#Create a pandas dataframe with dictionary data:\n",
    "today = date.today()\n",
    "raw_data = {'Name':['Alice', 'Sophia', 'Júlia']\n",
    "            , 'Age':[28, 24, 20]\n",
    "            , 'Date':[today - timedelta(days=300), today - timedelta(days=600), today - timedelta(days=900)]}\n",
    "df = pd.DataFrame(raw_data)\n",
    "df.info()"
   ]
  },
  {
   "cell_type": "code",
   "execution_count": 35,
   "id": "a7a75f9f-29d5-4565-b912-9abc51c8ad78",
   "metadata": {},
   "outputs": [
    {
     "name": "stdout",
     "output_type": "stream",
     "text": [
      "<class 'pandas.core.frame.DataFrame'>\n",
      "RangeIndex: 3 entries, 0 to 2\n",
      "Data columns (total 2 columns):\n",
      " #   Column  Non-Null Count  Dtype \n",
      "---  ------  --------------  ----- \n",
      " 0   Name    3 non-null      object\n",
      " 1   Date    3 non-null      object\n",
      "dtypes: object(2)\n",
      "memory usage: 180.0+ bytes\n"
     ]
    }
   ],
   "source": [
    "#Subset Dataframe with selective columns: \n",
    "df[['Name','Date']].info()"
   ]
  },
  {
   "cell_type": "code",
   "execution_count": 36,
   "id": "660b87d5-93bc-4f91-859f-c7ace964bdf0",
   "metadata": {},
   "outputs": [
    {
     "name": "stdout",
     "output_type": "stream",
     "text": [
      "<class 'pandas.core.series.Series'>\n",
      "RangeIndex: 3 entries, 0 to 2\n",
      "Series name: Date\n",
      "Non-Null Count  Dtype \n",
      "--------------  ----- \n",
      "3 non-null      object\n",
      "dtypes: object(1)\n",
      "memory usage: 156.0+ bytes\n"
     ]
    }
   ],
   "source": [
    "#All values from Date column as List/Series: \n",
    "df['Date'].info()"
   ]
  },
  {
   "cell_type": "code",
   "execution_count": 37,
   "id": "8ea1beb0-df39-4023-907e-032bad35891b",
   "metadata": {},
   "outputs": [
    {
     "name": "stdout",
     "output_type": "stream",
     "text": [
      "<class 'pandas.core.series.Series'>\n",
      "Index: 3 entries, Name to Date\n",
      "Series name: 0\n",
      "Non-Null Count  Dtype \n",
      "--------------  ----- \n",
      "3 non-null      object\n",
      "dtypes: object(1)\n",
      "memory usage: 156.0+ bytes\n"
     ]
    }
   ],
   "source": [
    "#All values from a selected row as List/Series:\n",
    "df.loc[0].info()"
   ]
  },
  {
   "cell_type": "code",
   "execution_count": 6,
   "id": "bfea79db-bcef-49bf-b900-5871368ff6b7",
   "metadata": {},
   "outputs": [
    {
     "name": "stdout",
     "output_type": "stream",
     "text": [
      "Name:Sophia; Age:24\n"
     ]
    }
   ],
   "source": [
    "#A specific cell value from a row and a column as a Scalar:\n",
    "print(f\"Name:{df.loc[1, 'Name']}; Age:{df.loc[1, 'Age']}\")"
   ]
  },
  {
   "cell_type": "code",
   "execution_count": 41,
   "id": "72bf9bf7-d960-4110-ab6c-2a4fcd7f14da",
   "metadata": {},
   "outputs": [
    {
     "data": {
      "text/plain": [
       "['Name', 'Age', 'Date']"
      ]
     },
     "execution_count": 41,
     "metadata": {},
     "output_type": "execute_result"
    }
   ],
   "source": [
    "##Show all column-names:\n",
    "#print(df.columns.tolist())\n",
    "list(df.columns)"
   ]
  },
  {
   "cell_type": "code",
   "execution_count": 73,
   "id": "eebc337d-29a9-4d2c-89ed-328667b04c86",
   "metadata": {},
   "outputs": [
    {
     "data": {
      "text/plain": [
       "RangeIndex(start=0, stop=3, step=1)"
      ]
     },
     "execution_count": 73,
     "metadata": {},
     "output_type": "execute_result"
    }
   ],
   "source": [
    "##Show df index as RangeIndex:\n",
    "df.index"
   ]
  },
  {
   "cell_type": "code",
   "execution_count": 75,
   "id": "1c9633e2-755c-4f81-87b1-e5d17445d65b",
   "metadata": {},
   "outputs": [
    {
     "data": {
      "text/plain": [
       "Index([0, 1], dtype='int64')"
      ]
     },
     "execution_count": 75,
     "metadata": {},
     "output_type": "execute_result"
    }
   ],
   "source": [
    "##Pick subset of idx:\n",
    "df.index[[0, 1]]"
   ]
  },
  {
   "cell_type": "code",
   "execution_count": 7,
   "id": "b127d6f1-b412-4497-90e4-9a7d95920c86",
   "metadata": {},
   "outputs": [
    {
     "name": "stdout",
     "output_type": "stream",
     "text": [
      "0 : Alice\n",
      "1 : Sophia\n",
      "2 : Júlia\n"
     ]
    }
   ],
   "source": [
    "##Loop-through df.index:\n",
    "for idx in df.index:\n",
    "    print(f\"{idx} : {df.loc[idx, 'Name']}\")\n",
    "#end"
   ]
  },
  {
   "cell_type": "code",
   "execution_count": 8,
   "id": "a23db4ad-195c-48f0-a386-c27d2766118d",
   "metadata": {},
   "outputs": [
    {
     "data": {
      "text/html": [
       "<div>\n",
       "<style scoped>\n",
       "    .dataframe tbody tr th:only-of-type {\n",
       "        vertical-align: middle;\n",
       "    }\n",
       "\n",
       "    .dataframe tbody tr th {\n",
       "        vertical-align: top;\n",
       "    }\n",
       "\n",
       "    .dataframe thead th {\n",
       "        text-align: right;\n",
       "    }\n",
       "</style>\n",
       "<table border=\"1\" class=\"dataframe\">\n",
       "  <thead>\n",
       "    <tr style=\"text-align: right;\">\n",
       "      <th></th>\n",
       "      <th>Name</th>\n",
       "      <th>Age</th>\n",
       "      <th>Date</th>\n",
       "      <th>Qtr</th>\n",
       "    </tr>\n",
       "  </thead>\n",
       "  <tbody>\n",
       "    <tr>\n",
       "      <th>0</th>\n",
       "      <td>Alice</td>\n",
       "      <td>28</td>\n",
       "      <td>2023-07-21</td>\n",
       "      <td>3</td>\n",
       "    </tr>\n",
       "    <tr>\n",
       "      <th>1</th>\n",
       "      <td>Sophia</td>\n",
       "      <td>24</td>\n",
       "      <td>2022-09-24</td>\n",
       "      <td>4</td>\n",
       "    </tr>\n",
       "    <tr>\n",
       "      <th>2</th>\n",
       "      <td>Júlia</td>\n",
       "      <td>20</td>\n",
       "      <td>2021-11-28</td>\n",
       "      <td>4</td>\n",
       "    </tr>\n",
       "  </tbody>\n",
       "</table>\n",
       "</div>"
      ],
      "text/plain": [
       "     Name  Age        Date  Qtr\n",
       "0   Alice   28  2023-07-21    3\n",
       "1  Sophia   24  2022-09-24    4\n",
       "2   Júlia   20  2021-11-28    4"
      ]
     },
     "execution_count": 8,
     "metadata": {},
     "output_type": "execute_result"
    }
   ],
   "source": [
    "#Add new Qtr column to df:\n",
    "df['Qtr'] = df['Date'].apply(lambda x: getQtr(x))\n",
    "df.head()"
   ]
  },
  {
   "cell_type": "code",
   "execution_count": null,
   "id": "9e2f6298-5d5a-4d2c-bb19-f597ddc5b924",
   "metadata": {},
   "outputs": [],
   "source": [
    "##Pandas.DataFrame: apply() vs map() vs applymap():\n",
    "\"\"\"\n",
    "Definition\n",
    "\n",
    "    map is defined on Series only\n",
    "    applymap is defined on DataFrames only\n",
    "    apply is defined on both\n",
    "\n",
    "Input argument\n",
    "\n",
    "    map accepts dict, Series, or callable\n",
    "    applymap and apply accept callable only\n",
    "\n",
    "Behavior\n",
    "\n",
    "    map is elementwise for Series\n",
    "    applymap is elementwise for DataFrames\n",
    "    apply also works elementwise but is suited to more complex operations and aggregation. The behaviour and return value depends on the function.\n",
    "\n",
    "Use case (the most important difference)\n",
    "\n",
    "    map is meant for mapping values from one domain to another, so is optimised for performance, e.g.,\n",
    "\n",
    "    df['A'].map({1:'a', 2:'b', 3:'c'})\n",
    "\n",
    "    applymap is good for elementwise transformations across multiple rows/columns, e.g.,\n",
    "\n",
    "    df[['A', 'B', 'C']].applymap(str.strip)\n",
    "\n",
    "    apply is for applying any function that cannot be vectorised, e.g.,\n",
    "\n",
    "    df['sentences'].apply(nltk.sent_tokenize)\n",
    "\n",
    "Also see: 'When should I (not) want to use pandas apply() in my code?\n",
    "\"\"\"\n",
    "\"\"\"\n",
    "Summarising\n",
    "\t                    map \tapplymap \tapply\n",
    "Defined on Series? \t    Yes \t   No \t     Yes\n",
    "Defined on DataFrame?   No \t       Yes \t     Yes\n",
    "Elementwise?            Yes        Yes       Yes\n",
    "Aggregation?            No         No        Yes\n",
    "Returns               Series    DataFrame  Scalar,Series,DataFrame\n",
    "\"\"\""
   ]
  },
  {
   "cell_type": "code",
   "execution_count": 9,
   "id": "601c7d20-57ea-4e29-bbe9-fb6c739bf44d",
   "metadata": {},
   "outputs": [
    {
     "data": {
      "text/html": [
       "<div>\n",
       "<style scoped>\n",
       "    .dataframe tbody tr th:only-of-type {\n",
       "        vertical-align: middle;\n",
       "    }\n",
       "\n",
       "    .dataframe tbody tr th {\n",
       "        vertical-align: top;\n",
       "    }\n",
       "\n",
       "    .dataframe thead th {\n",
       "        text-align: right;\n",
       "    }\n",
       "</style>\n",
       "<table border=\"1\" class=\"dataframe\">\n",
       "  <thead>\n",
       "    <tr style=\"text-align: right;\">\n",
       "      <th></th>\n",
       "      <th>Name</th>\n",
       "      <th>Age</th>\n",
       "      <th>Date</th>\n",
       "      <th>Qtr</th>\n",
       "      <th>Fullname</th>\n",
       "    </tr>\n",
       "  </thead>\n",
       "  <tbody>\n",
       "    <tr>\n",
       "      <th>0</th>\n",
       "      <td>Alice</td>\n",
       "      <td>28</td>\n",
       "      <td>2023-07-21</td>\n",
       "      <td>3</td>\n",
       "      <td>Alice Engel</td>\n",
       "    </tr>\n",
       "    <tr>\n",
       "      <th>1</th>\n",
       "      <td>Sophia</td>\n",
       "      <td>24</td>\n",
       "      <td>2022-09-24</td>\n",
       "      <td>4</td>\n",
       "      <td>Sophia Engel</td>\n",
       "    </tr>\n",
       "    <tr>\n",
       "      <th>2</th>\n",
       "      <td>Júlia</td>\n",
       "      <td>20</td>\n",
       "      <td>2021-11-28</td>\n",
       "      <td>4</td>\n",
       "      <td>Júlia Engel</td>\n",
       "    </tr>\n",
       "  </tbody>\n",
       "</table>\n",
       "</div>"
      ],
      "text/plain": [
       "     Name  Age        Date  Qtr      Fullname\n",
       "0   Alice   28  2023-07-21    3   Alice Engel\n",
       "1  Sophia   24  2022-09-24    4  Sophia Engel\n",
       "2   Júlia   20  2021-11-28    4   Júlia Engel"
      ]
     },
     "execution_count": 9,
     "metadata": {},
     "output_type": "execute_result"
    }
   ],
   "source": [
    "#Apply: can operate on series, scalar or dataframe\n",
    "df['Fullname'] = df['Name'].apply(lambda nm: f\"{nm} Engel\")\n",
    "df.head()"
   ]
  },
  {
   "cell_type": "code",
   "execution_count": 10,
   "id": "df29bc03-83e0-40c2-be98-d772a5d47557",
   "metadata": {},
   "outputs": [
    {
     "data": {
      "text/html": [
       "<div>\n",
       "<style scoped>\n",
       "    .dataframe tbody tr th:only-of-type {\n",
       "        vertical-align: middle;\n",
       "    }\n",
       "\n",
       "    .dataframe tbody tr th {\n",
       "        vertical-align: top;\n",
       "    }\n",
       "\n",
       "    .dataframe thead th {\n",
       "        text-align: right;\n",
       "    }\n",
       "</style>\n",
       "<table border=\"1\" class=\"dataframe\">\n",
       "  <thead>\n",
       "    <tr style=\"text-align: right;\">\n",
       "      <th></th>\n",
       "      <th>Name</th>\n",
       "      <th>Age</th>\n",
       "      <th>Date</th>\n",
       "      <th>Qtr</th>\n",
       "      <th>Fullname</th>\n",
       "      <th>AgeX2</th>\n",
       "    </tr>\n",
       "  </thead>\n",
       "  <tbody>\n",
       "    <tr>\n",
       "      <th>0</th>\n",
       "      <td>Alice</td>\n",
       "      <td>28</td>\n",
       "      <td>2023-07-21</td>\n",
       "      <td>3</td>\n",
       "      <td>Alice Engel</td>\n",
       "      <td>56</td>\n",
       "    </tr>\n",
       "    <tr>\n",
       "      <th>1</th>\n",
       "      <td>Sophia</td>\n",
       "      <td>24</td>\n",
       "      <td>2022-09-24</td>\n",
       "      <td>4</td>\n",
       "      <td>Sophia Engel</td>\n",
       "      <td>48</td>\n",
       "    </tr>\n",
       "    <tr>\n",
       "      <th>2</th>\n",
       "      <td>Júlia</td>\n",
       "      <td>20</td>\n",
       "      <td>2021-11-28</td>\n",
       "      <td>4</td>\n",
       "      <td>Júlia Engel</td>\n",
       "      <td>40</td>\n",
       "    </tr>\n",
       "  </tbody>\n",
       "</table>\n",
       "</div>"
      ],
      "text/plain": [
       "     Name  Age        Date  Qtr      Fullname  AgeX2\n",
       "0   Alice   28  2023-07-21    3   Alice Engel     56\n",
       "1  Sophia   24  2022-09-24    4  Sophia Engel     48\n",
       "2   Júlia   20  2021-11-28    4   Júlia Engel     40"
      ]
     },
     "execution_count": 10,
     "metadata": {},
     "output_type": "execute_result"
    }
   ],
   "source": [
    "#Map: Only apply on series\n",
    "df['AgeX2'] = df['Age'].map(lambda ag: ag * 2)\n",
    "df.head()"
   ]
  },
  {
   "cell_type": "code",
   "execution_count": 11,
   "id": "9f04f522-480a-441d-90f3-c300da976608",
   "metadata": {},
   "outputs": [
    {
     "name": "stderr",
     "output_type": "stream",
     "text": [
      "/tmp/ipykernel_32140/2877058053.py:2: FutureWarning: DataFrame.applymap has been deprecated. Use DataFrame.map instead.\n",
      "  df['Year'] = df[['Date']].applymap(lambda dt: dt.year)\n"
     ]
    },
    {
     "data": {
      "text/html": [
       "<div>\n",
       "<style scoped>\n",
       "    .dataframe tbody tr th:only-of-type {\n",
       "        vertical-align: middle;\n",
       "    }\n",
       "\n",
       "    .dataframe tbody tr th {\n",
       "        vertical-align: top;\n",
       "    }\n",
       "\n",
       "    .dataframe thead th {\n",
       "        text-align: right;\n",
       "    }\n",
       "</style>\n",
       "<table border=\"1\" class=\"dataframe\">\n",
       "  <thead>\n",
       "    <tr style=\"text-align: right;\">\n",
       "      <th></th>\n",
       "      <th>Name</th>\n",
       "      <th>Age</th>\n",
       "      <th>Date</th>\n",
       "      <th>Qtr</th>\n",
       "      <th>Fullname</th>\n",
       "      <th>AgeX2</th>\n",
       "      <th>Year</th>\n",
       "    </tr>\n",
       "  </thead>\n",
       "  <tbody>\n",
       "    <tr>\n",
       "      <th>0</th>\n",
       "      <td>Alice</td>\n",
       "      <td>28</td>\n",
       "      <td>2023-07-21</td>\n",
       "      <td>3</td>\n",
       "      <td>Alice Engel</td>\n",
       "      <td>56</td>\n",
       "      <td>2023</td>\n",
       "    </tr>\n",
       "    <tr>\n",
       "      <th>1</th>\n",
       "      <td>Sophia</td>\n",
       "      <td>24</td>\n",
       "      <td>2022-09-24</td>\n",
       "      <td>4</td>\n",
       "      <td>Sophia Engel</td>\n",
       "      <td>48</td>\n",
       "      <td>2022</td>\n",
       "    </tr>\n",
       "    <tr>\n",
       "      <th>2</th>\n",
       "      <td>Júlia</td>\n",
       "      <td>20</td>\n",
       "      <td>2021-11-28</td>\n",
       "      <td>4</td>\n",
       "      <td>Júlia Engel</td>\n",
       "      <td>40</td>\n",
       "      <td>2021</td>\n",
       "    </tr>\n",
       "  </tbody>\n",
       "</table>\n",
       "</div>"
      ],
      "text/plain": [
       "     Name  Age        Date  Qtr      Fullname  AgeX2  Year\n",
       "0   Alice   28  2023-07-21    3   Alice Engel     56  2023\n",
       "1  Sophia   24  2022-09-24    4  Sophia Engel     48  2022\n",
       "2   Júlia   20  2021-11-28    4   Júlia Engel     40  2021"
      ]
     },
     "execution_count": 11,
     "metadata": {},
     "output_type": "execute_result"
    }
   ],
   "source": [
    "#Applymap: Only apply on DataFrame\n",
    "df['Year'] = df[['Date']].applymap(lambda dt: dt.year)\n",
    "df.head()"
   ]
  },
  {
   "cell_type": "code",
   "execution_count": 12,
   "id": "eb8d3013-b956-4d22-83bb-de54bd9b518a",
   "metadata": {},
   "outputs": [
    {
     "data": {
      "text/html": [
       "<div>\n",
       "<style scoped>\n",
       "    .dataframe tbody tr th:only-of-type {\n",
       "        vertical-align: middle;\n",
       "    }\n",
       "\n",
       "    .dataframe tbody tr th {\n",
       "        vertical-align: top;\n",
       "    }\n",
       "\n",
       "    .dataframe thead th {\n",
       "        text-align: right;\n",
       "    }\n",
       "</style>\n",
       "<table border=\"1\" class=\"dataframe\">\n",
       "  <thead>\n",
       "    <tr style=\"text-align: right;\">\n",
       "      <th></th>\n",
       "      <th>Name</th>\n",
       "      <th>Age</th>\n",
       "      <th>Date</th>\n",
       "      <th>Qtr</th>\n",
       "      <th>Fullname</th>\n",
       "      <th>AgeX2</th>\n",
       "      <th>Year</th>\n",
       "    </tr>\n",
       "  </thead>\n",
       "  <tbody>\n",
       "    <tr>\n",
       "      <th>1</th>\n",
       "      <td>Sophia</td>\n",
       "      <td>24</td>\n",
       "      <td>2022-09-24</td>\n",
       "      <td>4</td>\n",
       "      <td>Sophia Engel</td>\n",
       "      <td>48</td>\n",
       "      <td>2022</td>\n",
       "    </tr>\n",
       "    <tr>\n",
       "      <th>2</th>\n",
       "      <td>Júlia</td>\n",
       "      <td>20</td>\n",
       "      <td>2021-11-28</td>\n",
       "      <td>4</td>\n",
       "      <td>Júlia Engel</td>\n",
       "      <td>40</td>\n",
       "      <td>2021</td>\n",
       "    </tr>\n",
       "  </tbody>\n",
       "</table>\n",
       "</div>"
      ],
      "text/plain": [
       "     Name  Age        Date  Qtr      Fullname  AgeX2  Year\n",
       "1  Sophia   24  2022-09-24    4  Sophia Engel     48  2022\n",
       "2   Júlia   20  2021-11-28    4   Júlia Engel     40  2021"
      ]
     },
     "execution_count": 12,
     "metadata": {},
     "output_type": "execute_result"
    }
   ],
   "source": [
    "#How to query pd.DataFrame using condition in df[df['col'] == val] or query('col == val') method:\n",
    "#Ref: https://note.nkmk.me/en/python-pandas-query\n",
    "#Case-01:\n",
    "df[df['Qtr'] >= 4].head()"
   ]
  },
  {
   "cell_type": "code",
   "execution_count": 13,
   "id": "b64de4d7-afd1-4fa8-95e0-80b2b67c6539",
   "metadata": {},
   "outputs": [
    {
     "data": {
      "text/html": [
       "<div>\n",
       "<style scoped>\n",
       "    .dataframe tbody tr th:only-of-type {\n",
       "        vertical-align: middle;\n",
       "    }\n",
       "\n",
       "    .dataframe tbody tr th {\n",
       "        vertical-align: top;\n",
       "    }\n",
       "\n",
       "    .dataframe thead th {\n",
       "        text-align: right;\n",
       "    }\n",
       "</style>\n",
       "<table border=\"1\" class=\"dataframe\">\n",
       "  <thead>\n",
       "    <tr style=\"text-align: right;\">\n",
       "      <th></th>\n",
       "      <th>Name</th>\n",
       "      <th>Age</th>\n",
       "      <th>Date</th>\n",
       "      <th>Qtr</th>\n",
       "      <th>Fullname</th>\n",
       "      <th>AgeX2</th>\n",
       "      <th>Year</th>\n",
       "    </tr>\n",
       "  </thead>\n",
       "  <tbody>\n",
       "    <tr>\n",
       "      <th>0</th>\n",
       "      <td>Alice</td>\n",
       "      <td>28</td>\n",
       "      <td>2023-07-21</td>\n",
       "      <td>3</td>\n",
       "      <td>Alice Engel</td>\n",
       "      <td>56</td>\n",
       "      <td>2023</td>\n",
       "    </tr>\n",
       "  </tbody>\n",
       "</table>\n",
       "</div>"
      ],
      "text/plain": [
       "    Name  Age        Date  Qtr     Fullname  AgeX2  Year\n",
       "0  Alice   28  2023-07-21    3  Alice Engel     56  2023"
      ]
     },
     "execution_count": 13,
     "metadata": {},
     "output_type": "execute_result"
    }
   ],
   "source": [
    "#Case-02: using query('col == val') method\n",
    "df.query('Qtr == 3').head()"
   ]
  },
  {
   "cell_type": "code",
   "execution_count": 14,
   "id": "40747d47-9e9f-48a3-9cd8-a02ed5045120",
   "metadata": {},
   "outputs": [
    {
     "data": {
      "text/html": [
       "<div>\n",
       "<style scoped>\n",
       "    .dataframe tbody tr th:only-of-type {\n",
       "        vertical-align: middle;\n",
       "    }\n",
       "\n",
       "    .dataframe tbody tr th {\n",
       "        vertical-align: top;\n",
       "    }\n",
       "\n",
       "    .dataframe thead th {\n",
       "        text-align: right;\n",
       "    }\n",
       "</style>\n",
       "<table border=\"1\" class=\"dataframe\">\n",
       "  <thead>\n",
       "    <tr style=\"text-align: right;\">\n",
       "      <th></th>\n",
       "      <th>Name</th>\n",
       "      <th>Age</th>\n",
       "      <th>Date</th>\n",
       "      <th>Qtr</th>\n",
       "      <th>Fullname</th>\n",
       "      <th>AgeX2</th>\n",
       "      <th>Year</th>\n",
       "    </tr>\n",
       "  </thead>\n",
       "  <tbody>\n",
       "    <tr>\n",
       "      <th>0</th>\n",
       "      <td>Alice</td>\n",
       "      <td>28</td>\n",
       "      <td>2023-07-21</td>\n",
       "      <td>3</td>\n",
       "      <td>Alice Engel</td>\n",
       "      <td>56</td>\n",
       "      <td>2023</td>\n",
       "    </tr>\n",
       "  </tbody>\n",
       "</table>\n",
       "</div>"
      ],
      "text/plain": [
       "    Name  Age        Date  Qtr     Fullname  AgeX2  Year\n",
       "0  Alice   28  2023-07-21    3  Alice Engel     56  2023"
      ]
     },
     "execution_count": 14,
     "metadata": {},
     "output_type": "execute_result"
    }
   ],
   "source": [
    "#Case-02.1: to use variable in query string use @ in query-string\n",
    "val = 3\n",
    "df.query('Qtr <= @val').head()"
   ]
  },
  {
   "cell_type": "code",
   "execution_count": 15,
   "id": "e2ee2bf7-b449-436d-84d6-0707b460930b",
   "metadata": {},
   "outputs": [
    {
     "data": {
      "text/html": [
       "<div>\n",
       "<style scoped>\n",
       "    .dataframe tbody tr th:only-of-type {\n",
       "        vertical-align: middle;\n",
       "    }\n",
       "\n",
       "    .dataframe tbody tr th {\n",
       "        vertical-align: top;\n",
       "    }\n",
       "\n",
       "    .dataframe thead th {\n",
       "        text-align: right;\n",
       "    }\n",
       "</style>\n",
       "<table border=\"1\" class=\"dataframe\">\n",
       "  <thead>\n",
       "    <tr style=\"text-align: right;\">\n",
       "      <th></th>\n",
       "      <th>Name</th>\n",
       "      <th>Age</th>\n",
       "      <th>Date</th>\n",
       "      <th>Qtr</th>\n",
       "      <th>Fullname</th>\n",
       "      <th>AgeX2</th>\n",
       "      <th>Year</th>\n",
       "    </tr>\n",
       "  </thead>\n",
       "  <tbody>\n",
       "    <tr>\n",
       "      <th>0</th>\n",
       "      <td>Alice</td>\n",
       "      <td>28</td>\n",
       "      <td>2023-07-21</td>\n",
       "      <td>3</td>\n",
       "      <td>Alice Engel</td>\n",
       "      <td>56</td>\n",
       "      <td>2023</td>\n",
       "    </tr>\n",
       "  </tbody>\n",
       "</table>\n",
       "</div>"
      ],
      "text/plain": [
       "    Name  Age        Date  Qtr     Fullname  AgeX2  Year\n",
       "0  Alice   28  2023-07-21    3  Alice Engel     56  2023"
      ]
     },
     "execution_count": 15,
     "metadata": {},
     "output_type": "execute_result"
    }
   ],
   "source": [
    "#Case-02.2: or using f-strings as query\n",
    "val = 3\n",
    "df.query(f'Qtr <= {val}').head()"
   ]
  },
  {
   "cell_type": "code",
   "execution_count": 60,
   "id": "fa4a3f5a-e4f7-4789-b518-68c1f57011d7",
   "metadata": {},
   "outputs": [
    {
     "data": {
      "text/plain": [
       "(0, 7)"
      ]
     },
     "execution_count": 60,
     "metadata": {},
     "output_type": "execute_result"
    }
   ],
   "source": [
    "#Case-03: value isna() or notna() check in query string\n",
    "df.query('Name.isna()').shape"
   ]
  },
  {
   "cell_type": "code",
   "execution_count": 61,
   "id": "c3b33e5c-623b-4559-8676-cdbe0c8d6ff2",
   "metadata": {},
   "outputs": [
    {
     "data": {
      "text/plain": [
       "(3, 7)"
      ]
     },
     "execution_count": 61,
     "metadata": {},
     "output_type": "execute_result"
    }
   ],
   "source": [
    "df.query('Name.notna()').shape"
   ]
  }
 ],
 "metadata": {
  "kernelspec": {
   "display_name": "Python 3 (ipykernel)",
   "language": "python",
   "name": "python3"
  },
  "language_info": {
   "codemirror_mode": {
    "name": "ipython",
    "version": 3
   },
   "file_extension": ".py",
   "mimetype": "text/x-python",
   "name": "python",
   "nbconvert_exporter": "python",
   "pygments_lexer": "ipython3",
   "version": "3.12.3"
  }
 },
 "nbformat": 4,
 "nbformat_minor": 5
}
